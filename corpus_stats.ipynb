{
 "cells": [
  {
   "attachments": {},
   "cell_type": "markdown",
   "metadata": {},
   "source": [
    "# Analyze Corpus\n",
    "\n",
    "(C) 2023 by [Damir Cavar](http://damir.cavar.me/)\n",
    "\n",
    "This notebook provides an overview of the data in the corpus by language and type.\n",
    "\n",
    "This code is part of the [NLP-Lab](http://nlp-lab.org/) [Ellipsis Project](https://nlp-lab.org/ellipsis/).\n",
    "\n",
    "The prerequisites for this code to run are:\n",
    "\n",
    "- install the requirements using `pip install -r requirements.txt`"
   ]
  },
  {
   "cell_type": "code",
   "execution_count": 17,
   "metadata": {},
   "outputs": [],
   "source": [
    "import os\n",
    "import regex as re\n",
    "import pandas as pd\n",
    "from ipydatagrid import DataGrid\n",
    "import langcodes"
   ]
  },
  {
   "cell_type": "code",
   "execution_count": 18,
   "metadata": {},
   "outputs": [],
   "source": [
    "re_entry = re.compile(r\"\\n+(?P<ellipsis>.+)\\n^----\\n(?P<fullform>^.+)\\n(^#.+\\n)*\", re.MULTILINE) # |re.UNICODE"
   ]
  },
  {
   "cell_type": "code",
   "execution_count": 19,
   "metadata": {},
   "outputs": [],
   "source": [
    "def parse_txt_format(filename, debug=False):\n",
    "    with open(filename, mode='r', encoding='utf-8') as ifp:\n",
    "        text = ifp.read()\n",
    "    counter = 0\n",
    "    for match in re_entry.finditer(text):\n",
    "        counter += 1\n",
    "    return counter"
   ]
  },
  {
   "cell_type": "code",
   "execution_count": null,
   "metadata": {},
   "outputs": [],
   "source": [
    "directory = \"data\"\n",
    "res = []\n",
    "for file in os.listdir(directory):\n",
    "    if file.endswith(\".txt\") and file != \"Distractors.txt\":\n",
    "        full_path = os.path.join(directory, file)\n",
    "        count = parse_txt_format(full_path, debug=True)\n",
    "        if count > 0:\n",
    "            # print(lang, os.path.splitext(os.path.basename(full_path))[0], count)\n",
    "            res.append( (\"ara\", os.path.splitext(os.path.basename(full_path))[0], count) )\n",
    "    elif file.endswith(\".xml\"):\n",
    "        pass\n",
    "res.sort(key=lambda x: x[2], reverse=True)\n",
    "df = pd.DataFrame(res, columns=(\"lang\", \"type\", \"count\"), index=None)\n",
    "bylang = {}\n",
    "for r in res:\n",
    "    bylang[r[0]] = bylang.get(r[0], 0) + r[2]\n",
    "bylang = list(bylang.items())\n",
    "bylang.sort(key=lambda x: x[1], reverse=True)\n",
    "df_bylang = pd.DataFrame(bylang, columns=(\"lang\", \"count\"), index=None)"
   ]
  },
  {
   "cell_type": "code",
   "execution_count": 21,
   "metadata": {},
   "outputs": [
    {
     "data": {
      "application/vnd.jupyter.widget-view+json": {
       "model_id": "32a65cacfb2747cab7104035003815cf",
       "version_major": 2,
       "version_minor": 0
      },
      "text/plain": [
       "DataGrid(auto_fit_columns=True, auto_fit_params={'area': 'body', 'padding': 80, 'numCols': 2}, corner_renderer…"
      ]
     },
     "execution_count": 21,
     "metadata": {},
     "output_type": "execute_result"
    }
   ],
   "source": [
    "grid = DataGrid(df)\n",
    "grid.auto_fit_params = {\"area\": \"body\", \"padding\": 80, \"numCols\": 2}\n",
    "grid.auto_fit_columns = True\n",
    "grid"
   ]
  },
  {
   "cell_type": "code",
   "execution_count": 22,
   "metadata": {},
   "outputs": [
    {
     "data": {
      "application/vnd.jupyter.widget-view+json": {
       "model_id": "eb8402347ef046a98f3181d128674d73",
       "version_major": 2,
       "version_minor": 0
      },
      "text/plain": [
       "DataGrid(auto_fit_params={'area': 'all', 'padding': 30, 'numCols': None}, corner_renderer=None, default_render…"
      ]
     },
     "execution_count": 22,
     "metadata": {},
     "output_type": "execute_result"
    }
   ],
   "source": [
    "DataGrid(df_bylang)"
   ]
  },
  {
   "cell_type": "code",
   "execution_count": 23,
   "metadata": {},
   "outputs": [
    {
     "name": "stdout",
     "output_type": "stream",
     "text": [
      "  lang  count\n",
      "0  ara    605\n"
     ]
    }
   ],
   "source": [
    "print(df_bylang)"
   ]
  }
 ],
 "metadata": {
  "kernelspec": {
   "display_name": "Python 3",
   "language": "python",
   "name": "python3"
  },
  "language_info": {
   "codemirror_mode": {
    "name": "ipython",
    "version": 3
   },
   "file_extension": ".py",
   "mimetype": "text/x-python",
   "name": "python",
   "nbconvert_exporter": "python",
   "pygments_lexer": "ipython3",
   "version": "3.13.3"
  }
 },
 "nbformat": 4,
 "nbformat_minor": 4
}
